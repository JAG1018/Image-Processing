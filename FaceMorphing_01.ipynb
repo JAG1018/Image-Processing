{
 "cells": [
  {
   "cell_type": "code",
   "execution_count": 1,
   "metadata": {
    "colab": {
     "base_uri": "https://localhost:8080/",
     "height": 330
    },
    "executionInfo": {
     "elapsed": 10689,
     "status": "error",
     "timestamp": 1669483909775,
     "user": {
      "displayName": "JAGANNATH V V 21122024",
      "userId": "08389275940769110119"
     },
     "user_tz": -330
    },
    "id": "12fokMeFYVOB",
    "outputId": "d6ff5977-903f-4ba4-b73b-ad7e9c1e98ea"
   },
   "outputs": [],
   "source": [
    "# from google.colab import drive\n",
    "# drive.mount('/content/drive/')"
   ]
  },
  {
   "cell_type": "code",
   "execution_count": 2,
   "metadata": {
    "id": "sNc3w8cu3SP5"
   },
   "outputs": [],
   "source": [
    "# !unzip /content/drive/MyDrive/Avastha_Research/Face-Morphing-master.zip"
   ]
  },
  {
   "cell_type": "code",
   "execution_count": 3,
   "metadata": {
    "colab": {
     "base_uri": "https://localhost:8080/"
    },
    "executionInfo": {
     "elapsed": 609,
     "status": "ok",
     "timestamp": 1669394260911,
     "user": {
      "displayName": "JAGANNATH V V 21122024",
      "userId": "08389275940769110119"
     },
     "user_tz": -330
    },
    "id": "1pYuHXFT4y4v",
    "outputId": "3a64d36e-8479-404a-a141-1c1df107fbf2"
   },
   "outputs": [],
   "source": [
    "# !python /content/Face-Morphing-master/code/utils/align_images.py /content/Face-Morphing-master/images --output_size=1024"
   ]
  },
  {
   "cell_type": "markdown",
   "metadata": {
    "id": "hGpWyq14gfd7"
   },
   "source": [
    "**MORPHING**"
   ]
  },
  {
   "cell_type": "code",
   "execution_count": 4,
   "metadata": {
    "id": "9fhjFCOoB6Dn"
   },
   "outputs": [],
   "source": [
    "# !python /content/Face-Morphing-master/code/__init__.py --img1 /content/drive/MyDrive/Avastha_Research/Renamed_images/0.jpg --img2 /content/drive/MyDrive/Avastha_Research/Renamed_images/5.jpg --output output.mp4"
   ]
  },
  {
   "cell_type": "code",
   "execution_count": 5,
   "metadata": {
    "id": "Cz-NniO6gaKG"
   },
   "outputs": [],
   "source": [
    "###image capture"
   ]
  },
  {
   "cell_type": "markdown",
   "metadata": {
    "id": "mArFD9XFgVlL"
   },
   "source": [
    "##Image GEnerating using loop"
   ]
  },
  {
   "cell_type": "code",
   "execution_count": 18,
   "metadata": {
    "id": "P81Oi_R9XGtk"
   },
   "outputs": [
    {
     "name": "stdout",
     "output_type": "stream",
     "text": [
      "Defaulting to user installation because normal site-packages is not writeable\n",
      "Requirement already satisfied: opencv-python in /home/hpc-lavasa/.local/lib/python3.10/site-packages (4.6.0.66)\n",
      "Requirement already satisfied: numpy>=1.19.3 in /home/hpc-lavasa/.local/lib/python3.10/site-packages (from opencv-python) (1.23.4)\n"
     ]
    }
   ],
   "source": [
    "# import os\n",
    "\n",
    "# directory1 = '/content/drive/MyDrive/Avastha_Research/Renamed_images'\n",
    "# count = 0\n",
    "# Fdata = []\n",
    "# for i  in os.listdir(directory1):\n",
    "#   for j in  os.listdir(directory1):\n",
    "#     image_1_filename=i\n",
    "#     image_2_filename=j\n",
    "#     # img1=\"/content/drive/MyDrive/Avastha_Research/Renamed_images/image_1_filename\"\n",
    "#     # img2=\" /content/drive/MyDrive/Avastha_Research/Renamed_images/image_2_filename\"\n",
    "#     # output=\"/content/drive/MyDrive/Avastha_Research/Output_videos/output\"+str(count)+\".mp4\"\n",
    "#     # execfile(\"/content/Face-Morphing-master/code/__init__.py\")\n",
    "\n",
    "#     !python /content/Face-Morphing-master/code/__init__.py --img1 /content/drive/MyDrive/Avastha_Research/Renamed_images/image_1_filename --img2 /content/drive/MyDrive/Avastha_Research/Renamed_images/image_2_filename --output /content/drive/MyDrive/Avastha_Research/Output_videos/output.mp4\n",
    "\n",
    "\n",
    "# !pip install opencv-python"
   ]
  },
  {
   "cell_type": "markdown",
   "metadata": {
    "id": "07tYeFz-OCFH"
   },
   "source": [
    "**MORPHING**"
   ]
  },
  {
   "cell_type": "code",
   "execution_count": 19,
   "metadata": {
    "id": "d_34Y157efBb"
   },
   "outputs": [],
   "source": [
    "import os\n",
    "import subprocess"
   ]
  },
  {
   "cell_type": "code",
   "execution_count": 20,
   "metadata": {
    "colab": {
     "base_uri": "https://localhost:8080/"
    },
    "executionInfo": {
     "elapsed": 9,
     "status": "ok",
     "timestamp": 1669394260912,
     "user": {
      "displayName": "JAGANNATH V V 21122024",
      "userId": "08389275940769110119"
     },
     "user_tz": -330
    },
    "id": "bDs1vRtsEKOW",
    "outputId": "46304928-2ca6-4c23-f3a9-a91015876ab2"
   },
   "outputs": [
    {
     "name": "stdout",
     "output_type": "stream",
     "text": [
      "total 1334464\n",
      "-rw-rw-r--  1 hpc-lavasa hpc-lavasa    261610 Nov 27 00:44 DEEP_FACE_DETECTION .ipynb\n",
      "-rw-rw-r--  1 hpc-lavasa hpc-lavasa  29668828 Nov 23 06:29 deepface-master.zip\n",
      "drwxrwxr-x  5 hpc-lavasa hpc-lavasa      4096 Aug 26 03:49 DiffMorph-master\n",
      "-rw-rw-r--  1 hpc-lavasa hpc-lavasa   8560235 Nov 23 05:01 DiffMorph-master.zip\n",
      "-rw-rw-r--  1 hpc-lavasa hpc-lavasa     21206 Nov 26 23:25 FaceMorphing_01.ipynb\n",
      "drwxrwxr-x  6 hpc-lavasa hpc-lavasa      4096 Sep 22 06:03 Face-Morphing-master\n",
      "-rw-rw-r--  1 hpc-lavasa hpc-lavasa 134699078 Nov  1 04:50 Face-Morphing-master.zip\n",
      "drwxrwxr-x  2 hpc-lavasa hpc-lavasa      4096 Nov 26 23:20 Finall_data\n",
      "drwxrwxr-x  2 hpc-lavasa hpc-lavasa      4096 Nov 26 23:20 Generated_image\n",
      "drwxrwxr-x  2 hpc-lavasa hpc-lavasa      4096 Nov 26 23:20 Generated_test\n",
      "drwxrwxr-x  6 hpc-lavasa hpc-lavasa      4096 Nov 26 23:35 JAGGU\n",
      "-rw-rw-r--  1 hpc-lavasa hpc-lavasa     16662 Nov 26 23:43 Morphdiff.ipynb\n",
      "drwxrwxr-x 18 hpc-lavasa hpc-lavasa      4096 Nov 26 23:20 Output_videos\n",
      "-rw-rw-r--  1 hpc-lavasa hpc-lavasa  67108992 Nov 26 23:43 preds.npy\n",
      "drwxrwxr-x  3 hpc-lavasa hpc-lavasa      4096 Nov 26 23:20 Renamed_images\n",
      "drwxrwxr-x  2 hpc-lavasa hpc-lavasa      4096 Nov 26 23:20 Renamed_Images_2\n",
      "drwxrwxr-x  2 hpc-lavasa hpc-lavasa      4096 Nov 26 09:47 THE_FINAL\n",
      "-rw-rw-r--  1 hpc-lavasa hpc-lavasa 580085408 May 25  2020 vgg_face_weights.h5\n",
      "-rw-rw-r--  1 hpc-lavasa hpc-lavasa 545997436 Nov 23 08:43 vggfaceweights.zip\n",
      "\n"
     ]
    }
   ],
   "source": [
    "print(os.popen(\"ls -l\").read())"
   ]
  },
  {
   "cell_type": "code",
   "execution_count": 21,
   "metadata": {
    "id": "INamxJNREQ6L"
   },
   "outputs": [],
   "source": [
    "python_code_loc = '/home/hpc-lavasa/Desktop/Avastha_Research-20221126T174731Z-001/Avastha_Research/Face-Morphing-master/code/__init__.py'\n",
    "image_loc = '/home/hpc-lavasa/Desktop/Avastha_Research-20221126T174731Z-001/Avastha_Research/Renamed_images'\n",
    "output_loc = '/home/hpc-lavasa/Desktop/Avastha_Research-20221126T174731Z-001/Avastha_Research/Output_videos'\n",
    "img_1 = 1\n",
    "img_2 = 2\n",
    "img_1_name = '{}.jpg'.format(img_1)\n",
    "img_2_name = '{}.jpg'.format(img_2)\n",
    "video_name = 'morphed_{}_{}.mp4'.format(img_1, img_2)"
   ]
  },
  {
   "cell_type": "code",
   "execution_count": 22,
   "metadata": {
    "colab": {
     "base_uri": "https://localhost:8080/"
    },
    "executionInfo": {
     "elapsed": 543882,
     "status": "ok",
     "timestamp": 1669394804788,
     "user": {
      "displayName": "JAGANNATH V V 21122024",
      "userId": "08389275940769110119"
     },
     "user_tz": -330
    },
    "id": "02pfkv52H-hF",
    "outputId": "ccc8539e-76e1-4ebd-8ecd-1be6065dd753"
   },
   "outputs": [
    {
     "name": "stdout",
     "output_type": "stream",
     "text": [
      "video_name morphed_0_1.mp4\n",
      "STARTED\n",
      "FINISHED\n",
      "video_name morphed_0_2.mp4\n",
      "STARTED\n",
      "FINISHED\n",
      "video_name morphed_0_3.mp4\n",
      "STARTED\n",
      "FINISHED\n",
      "video_name morphed_0_4.mp4\n",
      "STARTED\n",
      "FINISHED\n",
      "video_name morphed_0_5.mp4\n",
      "STARTED\n",
      "FINISHED\n",
      "video_name morphed_1_2.mp4\n",
      "STARTED\n",
      "FINISHED\n",
      "video_name morphed_1_3.mp4\n",
      "STARTED\n",
      "FINISHED\n",
      "video_name morphed_1_4.mp4\n",
      "STARTED\n",
      "FINISHED\n",
      "video_name morphed_1_5.mp4\n",
      "STARTED\n",
      "FINISHED\n",
      "video_name morphed_2_3.mp4\n",
      "STARTED\n",
      "FINISHED\n",
      "video_name morphed_2_4.mp4\n",
      "STARTED\n",
      "FINISHED\n",
      "video_name morphed_2_5.mp4\n",
      "STARTED\n",
      "FINISHED\n",
      "video_name morphed_3_4.mp4\n",
      "STARTED\n",
      "FINISHED\n",
      "video_name morphed_3_5.mp4\n",
      "STARTED\n",
      "FINISHED\n",
      "video_name morphed_4_5.mp4\n",
      "STARTED\n",
      "FINISHED\n"
     ]
    },
    {
     "name": "stderr",
     "output_type": "stream",
     "text": [
      "sh: 1: python: not found\n",
      "sh: 1: python: not found\n",
      "sh: 1: python: not found\n",
      "sh: 1: python: not found\n",
      "sh: 1: python: not found\n",
      "sh: 1: python: not found\n",
      "sh: 1: python: not found\n",
      "sh: 1: python: not found\n",
      "sh: 1: python: not found\n",
      "sh: 1: python: not found\n",
      "sh: 1: python: not found\n",
      "sh: 1: python: not found\n",
      "sh: 1: python: not found\n",
      "sh: 1: python: not found\n",
      "sh: 1: python: not found\n"
     ]
    }
   ],
   "source": [
    "for img_1 in [0, 1, 2, 3, 4, 5]:\n",
    "  for img_2 in [0, 1, 2, 3, 4, 5]:\n",
    "    if img_1 < img_2:\n",
    "      img_1_name = '{}.jpg'.format(img_1)\n",
    "      img_2_name = '{}.jpg'.format(img_2)\n",
    "      video_name = 'morphed_{}_{}.mp4'.format(img_1, img_2)\n",
    "\n",
    "      print(\"video_name \" + video_name)\n",
    "      print(\"STARTED\")\n",
    "\n",
    "      statement = 'python {} --img1 {}{} --img2 {}{} --output {}{}'.format(python_code_loc, image_loc, img_1_name, image_loc, img_2_name, output_loc, video_name)\n",
    "      os.system(statement)\n",
    "\n",
    "      print(\"FINISHED\")"
   ]
  },
  {
   "cell_type": "code",
   "execution_count": 23,
   "metadata": {
    "id": "xP951xxUFPs5"
   },
   "outputs": [],
   "source": [
    "statement = 'python {} --img1 {}{} --img2 {}{} --output {}{}'.format(python_code_loc, image_loc, img_1_name, image_loc, img_2_name, output_loc, video_name)"
   ]
  },
  {
   "cell_type": "code",
   "execution_count": 24,
   "metadata": {
    "colab": {
     "base_uri": "https://localhost:8080/"
    },
    "executionInfo": {
     "elapsed": 6,
     "status": "ok",
     "timestamp": 1669394804789,
     "user": {
      "displayName": "JAGANNATH V V 21122024",
      "userId": "08389275940769110119"
     },
     "user_tz": -330
    },
    "id": "PrFReuuvFqwX",
    "outputId": "cd9d5727-d161-49ca-edc3-d26b8fb1baed"
   },
   "outputs": [
    {
     "name": "stdout",
     "output_type": "stream",
     "text": [
      "python /home/hpc-lavasa/Desktop/Avastha_Research-20221126T174731Z-001/Avastha_Research/Face-Morphing-master/code/__init__.py --img1 /home/hpc-lavasa/Desktop/Avastha_Research-20221126T174731Z-001/Avastha_Research/Renamed_images4.jpg --img2 /home/hpc-lavasa/Desktop/Avastha_Research-20221126T174731Z-001/Avastha_Research/Renamed_images5.jpg --output /home/hpc-lavasa/Desktop/Avastha_Research-20221126T174731Z-001/Avastha_Research/Output_videosmorphed_4_5.mp4\n"
     ]
    }
   ],
   "source": [
    "print(statement)"
   ]
  },
  {
   "cell_type": "code",
   "execution_count": 25,
   "metadata": {
    "colab": {
     "base_uri": "https://localhost:8080/"
    },
    "executionInfo": {
     "elapsed": 17964,
     "status": "ok",
     "timestamp": 1669394822748,
     "user": {
      "displayName": "JAGANNATH V V 21122024",
      "userId": "08389275940769110119"
     },
     "user_tz": -330
    },
    "id": "PVy0trAmFrq1",
    "outputId": "b3920f77-7afe-4138-fccd-3aa5de5dcf28"
   },
   "outputs": [
    {
     "name": "stderr",
     "output_type": "stream",
     "text": [
      "sh: 1: python: not found\n"
     ]
    },
    {
     "data": {
      "text/plain": [
       "32512"
      ]
     },
     "execution_count": 25,
     "metadata": {},
     "output_type": "execute_result"
    }
   ],
   "source": [
    "os.system(statement)"
   ]
  },
  {
   "cell_type": "code",
   "execution_count": 26,
   "metadata": {
    "id": "vRZ31sIIF50T"
   },
   "outputs": [],
   "source": [
    "# !python /content/Face-Morphing-master/code/__init__.py --img1 /content/drive/MyDrive/Avastha_Research/Renamed_images/0.jpg --img2 /content/drive/MyDrive/Avastha_Research/Renamed_images/1.jpg --output /content/drive/MyDrive/Avastha_Research/Output_videos/morphed_0_1.mp4\n"
   ]
  },
  {
   "cell_type": "code",
   "execution_count": 27,
   "metadata": {
    "id": "s99uRWy5GuCv"
   },
   "outputs": [],
   "source": [
    "# import cv2\n",
    "# vidcap = cv2.VideoCapture('/content/drive/MyDrive/Avastha_Research/Output_videos/morphed_3_4.mp4')\n",
    "# def getFrame(sec):\n",
    "#     vidcap.set(cv2.CAP_PROP_POS_MSEC,sec*1000)\n",
    "#     hasFrames,image = vidcap.read()\n",
    "#     if hasFrames:\n",
    "#       # path = 'D:/OpenCV/Scripts/Images'\n",
    "#       # cv2.imwrite(os.path.join(path , 'waka.jpg'), img)\n",
    "#       # cv2.waitKey(0)\n",
    "#         cv2.imwrite(\"/content/drive/MyDrive/Avastha_Research/Untitled Folder/image\"+str(count)+\".jpg\", image) \n",
    "#             # save frame as JPG file\n",
    "#     return hasFrames\n",
    "# sec = 0\n",
    "# frameRate = 2 #//it will capture image in each 0.5 second\n",
    "# count=21\n",
    "# success = getFrame(sec)\n",
    "# while success:\n",
    "#     count = count + 1\n",
    "#     sec = sec + frameRate\n",
    "#     sec = round(sec, 2)\n",
    "#     success = getFrame(sec)\n"
   ]
  },
  {
   "cell_type": "code",
   "execution_count": 28,
   "metadata": {
    "colab": {
     "base_uri": "https://localhost:8080/"
    },
    "executionInfo": {
     "elapsed": 42904,
     "status": "ok",
     "timestamp": 1669396080221,
     "user": {
      "displayName": "JAGANNATH V V 21122024",
      "userId": "08389275940769110119"
     },
     "user_tz": -330
    },
    "id": "laXoT7C6GT2l",
    "outputId": "0a8ac8da-f65c-4ad1-944f-a0ea97e547f4"
   },
   "outputs": [
    {
     "name": "stdout",
     "output_type": "stream",
     "text": [
      "morphed_0_1.mp4\n"
     ]
    },
    {
     "ename": "NameError",
     "evalue": "name 'cv2' is not defined",
     "output_type": "error",
     "traceback": [
      "\u001b[0;31m---------------------------------------------------------------------------\u001b[0m",
      "\u001b[0;31mNameError\u001b[0m                                 Traceback (most recent call last)",
      "Cell \u001b[0;32mIn [28], line 9\u001b[0m\n\u001b[1;32m      7\u001b[0m video_name \u001b[38;5;241m=\u001b[39m \u001b[38;5;124m'\u001b[39m\u001b[38;5;124mmorphed_\u001b[39m\u001b[38;5;132;01m{}\u001b[39;00m\u001b[38;5;124m_\u001b[39m\u001b[38;5;132;01m{}\u001b[39;00m\u001b[38;5;124m.mp4\u001b[39m\u001b[38;5;124m'\u001b[39m\u001b[38;5;241m.\u001b[39mformat(img_1, img_2)\n\u001b[1;32m      8\u001b[0m \u001b[38;5;28mprint\u001b[39m(video_name)\n\u001b[0;32m----> 9\u001b[0m vidcap \u001b[38;5;241m=\u001b[39m \u001b[43mcv2\u001b[49m\u001b[38;5;241m.\u001b[39mVideoCapture(\u001b[38;5;124m'\u001b[39m\u001b[38;5;124m/home/hpc-lavasa/Desktop/Avastha_Research-20221126T174731Z-001/Avastha_Research/Output_videos/\u001b[39m\u001b[38;5;132;01m{}\u001b[39;00m\u001b[38;5;124m'\u001b[39m\u001b[38;5;241m.\u001b[39mformat(video_name))\n\u001b[1;32m     10\u001b[0m \u001b[38;5;28;01mdef\u001b[39;00m \u001b[38;5;21mgetFrame\u001b[39m(sec):\n\u001b[1;32m     11\u001b[0m     vidcap\u001b[38;5;241m.\u001b[39mset(cv2\u001b[38;5;241m.\u001b[39mCAP_PROP_POS_MSEC,sec\u001b[38;5;241m*\u001b[39m\u001b[38;5;241m1000\u001b[39m)\n",
      "\u001b[0;31mNameError\u001b[0m: name 'cv2' is not defined"
     ]
    }
   ],
   "source": [
    "# directory=\"/content/drive/MyDrive/Avastha_Research/Output_videos/\"\n",
    "     \n",
    "count=0\n",
    "for img_1 in [0, 1, 2, 3, 4, 5]:\n",
    "  for img_2 in [0, 1, 2, 3, 4, 5]:\n",
    "    if img_1 < img_2:\n",
    "      video_name = 'morphed_{}_{}.mp4'.format(img_1, img_2)\n",
    "      print(video_name)\n",
    "      vidcap = cv2.VideoCapture('/home/hpc-lavasa/Desktop/Avastha_Research-20221126T174731Z-001/Avastha_Research/Output_videos/{}'.format(video_name))\n",
    "      def getFrame(sec):\n",
    "          vidcap.set(cv2.CAP_PROP_POS_MSEC,sec*1000)\n",
    "          hasFrames,image = vidcap.read()\n",
    "          if hasFrames:\n",
    "            # path = 'D:/OpenCV/Scripts/Images'\n",
    "            # cv2.imwrite(os.path.join(path , 'waka.jpg'), img)\n",
    "            # cv2.waitKey(0)\n",
    "              print(\"start\")\n",
    "              cv2.imwrite(\"/home/hpc-lavasa/Desktop/Avastha_Research-20221126T174731Z-001/Avastha_Research/Finall_data/\"+str(count)+\".jpg\", image) \n",
    "              print(\"done\")\n",
    "                  # save frame as JPG file\n",
    "          return hasFrames\n",
    "      sec = 0\n",
    "      frameRate = 1 #//it will capture image in each 0.5 second\n",
    "      success = getFrame(sec)\n",
    "      while success:\n",
    "          count = count + 1\n",
    "          sec = sec + frameRate\n",
    "          sec = round(sec, 2)\n",
    "          success = getFrame(sec)\n",
    "          print(count)\n",
    "\n",
    "\n",
    "\n"
   ]
  },
  {
   "cell_type": "code",
   "execution_count": null,
   "metadata": {
    "id": "KLpPNV5TzTeJ"
   },
   "outputs": [],
   "source": []
  },
  {
   "cell_type": "code",
   "execution_count": null,
   "metadata": {},
   "outputs": [],
   "source": []
  },
  {
   "cell_type": "code",
   "execution_count": null,
   "metadata": {},
   "outputs": [],
   "source": []
  }
 ],
 "metadata": {
  "accelerator": "GPU",
  "colab": {
   "provenance": []
  },
  "gpuClass": "standard",
  "kernelspec": {
   "display_name": "Python 3 (ipykernel)",
   "language": "python",
   "name": "python3"
  },
  "language_info": {
   "codemirror_mode": {
    "name": "ipython",
    "version": 3
   },
   "file_extension": ".py",
   "mimetype": "text/x-python",
   "name": "python",
   "nbconvert_exporter": "python",
   "pygments_lexer": "ipython3",
   "version": "3.10.6"
  },
  "vscode": {
   "interpreter": {
    "hash": "916dbcbb3f70747c44a77c7bcd40155683ae19c65e1c03b4aa3499c5328201f1"
   }
  }
 },
 "nbformat": 4,
 "nbformat_minor": 1
}
